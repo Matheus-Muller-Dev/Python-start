{
 "cells": [
  {
   "cell_type": "code",
   "execution_count": 3,
   "id": "4a4e8cd2",
   "metadata": {},
   "outputs": [
    {
     "name": "stdout",
     "output_type": "stream",
     "text": [
      "digite um número6\n",
      "o número informado foi 6\n"
     ]
    }
   ],
   "source": [
    "num = input(\"digite um número\")\n",
    "print(\"o número informado foi\", num)"
   ]
  },
  {
   "cell_type": "code",
   "execution_count": null,
   "id": "ff9456ea",
   "metadata": {},
   "outputs": [],
   "source": []
  }
 ],
 "metadata": {
  "kernelspec": {
   "display_name": "Python 3 (ipykernel)",
   "language": "python",
   "name": "python3"
  },
  "language_info": {
   "codemirror_mode": {
    "name": "ipython",
    "version": 3
   },
   "file_extension": ".py",
   "mimetype": "text/x-python",
   "name": "python",
   "nbconvert_exporter": "python",
   "pygments_lexer": "ipython3",
   "version": "3.11.5"
  }
 },
 "nbformat": 4,
 "nbformat_minor": 5
}
